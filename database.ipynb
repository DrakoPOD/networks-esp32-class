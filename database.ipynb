{
 "cells": [
  {
   "cell_type": "code",
   "execution_count": 15,
   "metadata": {},
   "outputs": [],
   "source": [
    "import psycopg2"
   ]
  },
  {
   "cell_type": "markdown",
   "metadata": {},
   "source": [
    "# Create DataBase"
   ]
  },
  {
   "cell_type": "code",
   "execution_count": 5,
   "metadata": {},
   "outputs": [],
   "source": [
    "# Conexión a la base de datos\n",
    "conn = psycopg2.connect(\n",
    "    dbname=\"postgres\",  # Conéctate a la base de datos \"postgres\" o a la que desees\n",
    "    user=\"postgres\",    # Usuario\n",
    "    password=\"12345678\",  # Contraseña\n",
    "    host=\"127.0.0.1\",   # Servidor local\n",
    "    port=\"5432\"         # Puerto por defecto\n",
    ")\n",
    "\n",
    "# Crear un cursor\n",
    "cur = conn.cursor()\n",
    "\n",
    "# Asegúrate de ejecutar CREATE DATABASE fuera de una transacción\n",
    "cur.execute(\"COMMIT;\")  # Se asegura de cerrar cualquier transacción activa\n",
    "\n",
    "# Crear base de datos\n",
    "cur.execute(\"CREATE DATABASE test_db;\")"
   ]
  },
  {
   "cell_type": "code",
   "execution_count": 6,
   "metadata": {},
   "outputs": [],
   "source": [
    "# Cerrar la conexión a la base de datos principal\n",
    "cur.close()\n",
    "conn.close()"
   ]
  },
  {
   "cell_type": "markdown",
   "metadata": {},
   "source": [
    "# Insert data into the database"
   ]
  },
  {
   "cell_type": "code",
   "execution_count": 8,
   "metadata": {},
   "outputs": [],
   "source": [
    "# Conectarse a la nueva base de datos\n",
    "conn = psycopg2.connect(\n",
    "    dbname=\"test_db\",  # Conéctate a la base de datos que creaste\n",
    "    user=\"postgres\",\n",
    "    password=\"12345678\",\n",
    "    host=\"127.0.0.1\",\n",
    "    port=\"5432\"\n",
    ")\n",
    "\n",
    "cur = conn.cursor()\n",
    "\n",
    "# Crear tabla\n",
    "cur.execute(\"\"\"\n",
    "CREATE TABLE personas (\n",
    "    id SERIAL PRIMARY KEY,\n",
    "    nombre VARCHAR(100),\n",
    "    edad INT\n",
    ");\n",
    "\"\"\")"
   ]
  },
  {
   "cell_type": "code",
   "execution_count": 9,
   "metadata": {},
   "outputs": [],
   "source": [
    "# Insertar datos en la tabla\n",
    "cur.execute(\"INSERT INTO personas (nombre, edad) VALUES (%s, %s)\", (\"Juan\", 30))\n",
    "cur.execute(\"INSERT INTO personas (nombre, edad) VALUES (%s, %s)\", (\"Ana\", 25))"
   ]
  },
  {
   "cell_type": "code",
   "execution_count": 10,
   "metadata": {},
   "outputs": [],
   "source": [
    "# Guardar los cambios y cerrar la conexión\n",
    "conn.commit()\n",
    "cur.close()\n",
    "conn.close()"
   ]
  },
  {
   "cell_type": "markdown",
   "metadata": {},
   "source": [
    "# Read data from the database"
   ]
  },
  {
   "cell_type": "code",
   "execution_count": 12,
   "metadata": {},
   "outputs": [],
   "source": [
    "# Conexión a la base de datos\n",
    "conn = psycopg2.connect(\n",
    "    dbname=\"test_db\",  # Asegúrate de que la base de datos \"test_db\" exista\n",
    "    user=\"postgres\",\n",
    "    password=\"12345678\",\n",
    "    host=\"127.0.0.1\",\n",
    "    port=\"5432\"\n",
    ")\n",
    "\n",
    "# Crear un cursor\n",
    "cur = conn.cursor()\n",
    "\n",
    "# Leer datos\n",
    "cur.execute(\"SELECT * FROM personas;\")"
   ]
  },
  {
   "cell_type": "code",
   "execution_count": 13,
   "metadata": {},
   "outputs": [
    {
     "name": "stdout",
     "output_type": "stream",
     "text": [
      "ID: 1, Nombre: Juan, Edad: 30\n",
      "ID: 2, Nombre: Ana, Edad: 25\n"
     ]
    }
   ],
   "source": [
    "# Obtener todos los resultados\n",
    "personas = cur.fetchall()\n",
    "\n",
    "# Imprimir resultados\n",
    "for persona in personas:\n",
    "    print(f\"ID: {persona[0]}, Nombre: {persona[1]}, Edad: {persona[2]}\")"
   ]
  },
  {
   "cell_type": "code",
   "execution_count": 14,
   "metadata": {},
   "outputs": [],
   "source": [
    "\n",
    "# Cerrar la conexión\n",
    "cur.close()\n",
    "conn.close()"
   ]
  },
  {
   "cell_type": "markdown",
   "metadata": {},
   "source": [
    "# Error Data type"
   ]
  },
  {
   "cell_type": "code",
   "execution_count": null,
   "metadata": {},
   "outputs": [],
   "source": [
    "# Conexión a la base de datos\n",
    "conn = psycopg2.connect(\n",
    "    dbname=\"test_db\",  # Asegúrate de que la base de datos \"test_db\" exista\n",
    "    user=\"postgres\",\n",
    "    password=\"12345678\",\n",
    "    host=\"127.0.0.1\",\n",
    "    port=\"5432\"\n",
    ")\n",
    "\n",
    "# Crear un cursor\n",
    "cur = conn.cursor()\n",
    "\n",
    "cur.execute(\"INSERT INTO personas (nombre, edad) VALUES (%s, %s)\", (\"Juan\", \"Ana\"))"
   ]
  }
 ],
 "metadata": {
  "kernelspec": {
   "display_name": "base",
   "language": "python",
   "name": "python3"
  },
  "language_info": {
   "codemirror_mode": {
    "name": "ipython",
    "version": 3
   },
   "file_extension": ".py",
   "mimetype": "text/x-python",
   "name": "python",
   "nbconvert_exporter": "python",
   "pygments_lexer": "ipython3",
   "version": "3.12.4"
  }
 },
 "nbformat": 4,
 "nbformat_minor": 2
}
