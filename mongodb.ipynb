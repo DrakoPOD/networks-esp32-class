{
 "cells": [
  {
   "cell_type": "code",
   "execution_count": 1,
   "metadata": {},
   "outputs": [],
   "source": [
    "from pymongo import MongoClient"
   ]
  },
  {
   "cell_type": "code",
   "execution_count": 2,
   "metadata": {},
   "outputs": [
    {
     "name": "stdout",
     "output_type": "stream",
     "text": [
      "🔌 Conectando a MongoDB...\n",
      "✅ Bases de datos disponibles: ['admin', 'config', 'local']\n"
     ]
    }
   ],
   "source": [
    "# URL de conexión al contenedor Docker\n",
    "MONGO_URI = \"mongodb://localhost:27017/\"\n",
    "\n",
    "# Crear conexión\n",
    "client = MongoClient(MONGO_URI)\n",
    "\n",
    "# Verificar conexión con la lista de bases de datos\n",
    "try:\n",
    "    print(\"🔌 Conectando a MongoDB...\")\n",
    "    dbs = client.list_database_names()\n",
    "    print(\"✅ Bases de datos disponibles:\", dbs)\n",
    "except Exception as e:\n",
    "    print(\"❌ Error al conectar:\", e)"
   ]
  },
  {
   "cell_type": "code",
   "execution_count": 9,
   "metadata": {},
   "outputs": [
    {
     "name": "stdout",
     "output_type": "stream",
     "text": [
      "{'_id': ObjectId('67d8264564070cedf986c39a'), 'nombre': 'Drako', 'edad': 30, 'ocupación': 'Programador'}\n",
      "{'_id': ObjectId('67d8264664070cedf986c39b'), 'nombre': 'Drako', 'edad': 30, 'ocupación': 'Programador'}\n",
      "{'_id': ObjectId('67d8264764070cedf986c39c'), 'nombre': 'Drako', 'edad': 30, 'ocupación': 'Programador'}\n"
     ]
    }
   ],
   "source": [
    "# Seleccionar la base de datos (se crea automáticamente si no existe)\n",
    "db = client[\"test_db\"]\n",
    "\n",
    "# Seleccionar la colección\n",
    "collection = db[\"usuarios\"]\n",
    "\n",
    "# Insertar un documento\n",
    "nuevo_usuario = {\"nombre\": \"Drako\", \"edad\": 30, \"ocupación\": \"Programador\"}\n",
    "collection.insert_one(nuevo_usuario)\n",
    "\n",
    "# Leer e imprimir los documentos en la colección\n",
    "usuarios = collection.find()\n",
    "for usuario in usuarios:\n",
    "    print(usuario)\n"
   ]
  }
 ],
 "metadata": {
  "kernelspec": {
   "display_name": "base",
   "language": "python",
   "name": "python3"
  },
  "language_info": {
   "codemirror_mode": {
    "name": "ipython",
    "version": 3
   },
   "file_extension": ".py",
   "mimetype": "text/x-python",
   "name": "python",
   "nbconvert_exporter": "python",
   "pygments_lexer": "ipython3",
   "version": "3.12.9"
  }
 },
 "nbformat": 4,
 "nbformat_minor": 2
}
